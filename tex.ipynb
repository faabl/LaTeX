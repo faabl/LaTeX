{
 "cells": [
  {
   "cell_type": "markdown",
   "metadata": {},
   "source": [
    "# atomでtexを書くまで "
   ]
  },
  {
   "cell_type": "markdown",
   "metadata": {},
   "source": [
    "Markdown記法の練習がてら,描いています．  \n",
    "筆者はLabeditorが嫌いです．見づらいし，重いし．あと，自分のPCで使用できないため．  \n",
    "なので以下の条件を求めました．\n",
    "1. 軽い\n",
    "2. windows or mac の差が少ない\n",
    "3. 導入しやすい入れやすい\n",
    "\n",
    "先達にはsublimetextを使ってる人がいましたが，使ったことがなかったのでatomをえらびました．  \n",
    "あと，色んな人が便利なパッケージやらデザインを作って入れやすいしね．"
   ]
  },
  {
   "cell_type": "markdown",
   "metadata": {},
   "source": [
    "# 導入法"
   ]
  },
  {
   "cell_type": "markdown",
   "metadata": {},
   "source": [
    "1. texの導入\n",
    "2. その他の導入\n",
    "3. atomの導入と設定\n",
    "\n",
    "以上の手順で今回は行います．\n",
    "一つ目はmacとwindowsで違うので留意を．"
   ]
  },
  {
   "cell_type": "markdown",
   "metadata": {},
   "source": [
    "## 1.texの導入(mac編) "
   ]
  },
  {
   "cell_type": "markdown",
   "metadata": {},
   "source": [
    "1. Homebrewの導入\n",
    "2. MacTex or BasicTex　の導入\n",
    "\n",
    "\n",
    "HomebrewというMacのパッケジーマネジャーを使って，Texをコンパイルできるようにするって感じです．"
   ]
  },
  {
   "cell_type": "markdown",
   "metadata": {},
   "source": [
    "### 1-1.Homebrewの導入"
   ]
  },
  {
   "cell_type": "markdown",
   "metadata": {},
   "source": [
    "HomebrewというMacのパッケジーマネジャーを入れましょう．\n",
    "MySQLやらMeCabやらなんやらかんやら，インストールするときはだいたいこいつ使うので入れて損はないです．"
   ]
  },
  {
   "cell_type": "markdown",
   "metadata": {},
   "source": [
    "[Homebrew-The missing package manager for macOS (or Linux)](Homebrew\n",
    "The missing package manager for macOS (or Linux))"
   ]
  },
  {
   "cell_type": "markdown",
   "metadata": {},
   "source": [
    "ターミナルで下記コマンドをぶち込みましょう\n"
   ]
  },
  {
   "cell_type": "markdown",
   "metadata": {},
   "source": [
    "```\n",
    "/usr/bin/ruby -e \"$(curl -fsSL https://raw.githubusercontent.com/Homebrew/install/master/install)\"\n",
    "```"
   ]
  },
  {
   "cell_type": "markdown",
   "metadata": {},
   "source": [
    "## 1-2. MacTex or BasicTex　の導入"
   ]
  },
  {
   "cell_type": "markdown",
   "metadata": {},
   "source": [
    "BasicTexは最小限のものしか入ってない感じなので，今回はMacTexを入れます．\n",
    "ただし，ダウンロードに大きく時間がかかるので，時間と通信環境に余裕がある時に行なってください.また，公式サイトよりtもミラーサイトからダウンロードを行なった方が良さげ．"
   ]
  },
  {
   "cell_type": "markdown",
   "metadata": {},
   "source": [
    "このような[ブログ](http://doratex.hatenablog.jp/entry/20180501/1525144736),[wiki](https://texwiki.texjp.org/?TeX%20Live%2FMac#texlive-install-brew)などに従ってDLしましょう"
   ]
  },
  {
   "cell_type": "markdown",
   "metadata": {},
   "source": [
    "wikiに従って,guiなしverをDLする場合は，ターミナルで下のように実行しましょう．"
   ]
  },
  {
   "cell_type": "markdown",
   "metadata": {},
   "source": [
    "```\n",
    "$ brew cask install mactex-no-gui\n",
    "$ sudo tlmgr update --self --all\n",
    "$ sudo tlmgr paper a4\n",
    "```"
   ]
  },
  {
   "cell_type": "markdown",
   "metadata": {},
   "source": [
    "## 2.そのほかに必要なもの"
   ]
  },
  {
   "cell_type": "markdown",
   "metadata": {},
   "source": [
    "ほかに必要なものとして"
   ]
  },
  {
   "cell_type": "markdown",
   "metadata": {},
   "source": [
    "- PDFビューワーとしてSkim(mac) or SumatraPDF(win) "
   ]
  },
  {
   "cell_type": "markdown",
   "metadata": {},
   "source": [
    "## 2-1. Skimの導入"
   ]
  },
  {
   "cell_type": "markdown",
   "metadata": {},
   "source": [
    "ターミナルで`$ brew cask install skim`の一行でおわりです．"
   ]
  },
  {
   "cell_type": "markdown",
   "metadata": {},
   "source": [
    "## 3.atomの導入と設定"
   ]
  },
  {
   "cell_type": "markdown",
   "metadata": {},
   "source": [
    "## 3-1. atomの導入"
   ]
  },
  {
   "cell_type": "markdown",
   "metadata": {},
   "source": [
    "atomというのはgithub社が作ったエディターです．いろんな人がパッケージやスタイルを作っており，拡張性が高い反面，色々と入れすぎると重くなるので注意してね!"
   ]
  },
  {
   "cell_type": "markdown",
   "metadata": {},
   "source": [
    "[atom](https://atom.io)"
   ]
  },
  {
   "cell_type": "markdown",
   "metadata": {},
   "source": [
    "とりあえず，上記サイトからDLしましょう．"
   ]
  },
  {
   "cell_type": "markdown",
   "metadata": {},
   "source": [
    "## 3-2.パッケージ"
   ]
  },
  {
   "cell_type": "markdown",
   "metadata": {},
   "source": [
    "texを使うのに必要なライブラリーを入れましょう.  \n",
    "ライブラリーはPreferncese → Install PackagesからDLしてください．"
   ]
  },
  {
   "cell_type": "markdown",
   "metadata": {},
   "source": [
    "![グラフ](./gazou/1.png )"
   ]
  },
  {
   "cell_type": "markdown",
   "metadata": {},
   "source": [
    "![グラフ](./gazou/2.png )"
   ]
  },
  {
   "cell_type": "markdown",
   "metadata": {},
   "source": [
    "- latex(コンパイル)\n",
    "- language-latex(シンタックスハイライト)\n",
    "- latexer(補完)"
   ]
  },
  {
   "cell_type": "markdown",
   "metadata": {},
   "source": [
    "Atomのライブラリのpdf-viewはバチクソ重いので他のやつ使いましょう．  \n",
    "macならSkim，windowsならSumatraPDFを使いましょう．"
   ]
  },
  {
   "cell_type": "markdown",
   "metadata": {},
   "source": [
    "## 3-3 設定"
   ]
  },
  {
   "cell_type": "markdown",
   "metadata": {},
   "source": [
    "コンパイルに日本語を対応させるたためにLateXエンジンにuplatexを設定しましょう．  "
   ]
  },
  {
   "cell_type": "markdown",
   "metadata": {},
   "source": [
    "![グラフ](./gazou/3.png )"
   ]
  },
  {
   "cell_type": "markdown",
   "metadata": {},
   "source": [
    "pdfビューワーをskim( or sumatraPDF)にしましょう．"
   ]
  },
  {
   "cell_type": "markdown",
   "metadata": {},
   "source": [
    "![グラフ](./gazou/5.png )"
   ]
  },
  {
   "cell_type": "markdown",
   "metadata": {},
   "source": [
    "## 4.実行"
   ]
  },
  {
   "cell_type": "markdown",
   "metadata": {},
   "source": [
    "`ctrl-alt-b` で実行できます.  \n",
    "だいたい，atomウィンドウの後ろにSkimが隠れてます"
   ]
  },
  {
   "cell_type": "markdown",
   "metadata": {},
   "source": [
    "![グラフ](./gazou/4.png )"
   ]
  },
  {
   "cell_type": "markdown",
   "metadata": {},
   "source": [
    "# 参考文献"
   ]
  },
  {
   "cell_type": "markdown",
   "metadata": {},
   "source": [
    "[お前らのLaTeXエディタはダサい](https://twitter.com/5ebec/status/1065872335108956161)  \n",
    "[TeX Live/Mac -Tex WIki](https://texwiki.texjp.org/?TeX%20Live%2FMac#texlive-install-brew)"
   ]
  }
 ],
 "metadata": {
  "kernelspec": {
   "display_name": "Python 3",
   "language": "python",
   "name": "python3"
  },
  "language_info": {
   "codemirror_mode": {
    "name": "ipython",
    "version": 3
   },
   "file_extension": ".py",
   "mimetype": "text/x-python",
   "name": "python",
   "nbconvert_exporter": "python",
   "pygments_lexer": "ipython3",
   "version": "3.6.4"
  }
 },
 "nbformat": 4,
 "nbformat_minor": 2
}
